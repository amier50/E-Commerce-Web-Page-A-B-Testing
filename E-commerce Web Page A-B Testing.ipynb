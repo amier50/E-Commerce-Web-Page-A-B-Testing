{
 "cells": [
  {
   "cell_type": "markdown",
   "metadata": {},
   "source": [
    "# E-Commerce A/B Testing"
   ]
  },
  {
   "cell_type": "markdown",
   "metadata": {},
   "source": [
    "The raw dataset for this project was obtained from Kaggle which was uploaded by Ahmed Dawoud https://www.kaggle.com/ahmedmohameddawoud/ecommerce-ab-testing\n",
    "\n",
    "For this project, I will be working to understand the results of an A/B test run by an e-commerce website. The company has developed a new web page in order to try and increase the number of users who \"convert,\" meaning the number of users who decide to pay for the company's product. \n",
    "\n",
    "My goal is to work through this notebook to help the company understand if they should implement this new page, keep the old page, or perhaps run the experiment longer to make their decision."
   ]
  },
  {
   "cell_type": "markdown",
   "metadata": {},
   "source": [
    "## Key Performance Index (KPI)"
   ]
  },
  {
   "cell_type": "markdown",
   "metadata": {},
   "source": [
    "The company's KPI is to increase the number of users who \"converted\", meaning the number of users who decide to pay for the company's product within the short amount of time since the launching of the new web page."
   ]
  },
  {
   "cell_type": "markdown",
   "metadata": {},
   "source": [
    "## Importing datasets"
   ]
  },
  {
   "cell_type": "code",
   "execution_count": 291,
   "metadata": {},
   "outputs": [
    {
     "data": {
      "text/html": [
       "<div>\n",
       "<style scoped>\n",
       "    .dataframe tbody tr th:only-of-type {\n",
       "        vertical-align: middle;\n",
       "    }\n",
       "\n",
       "    .dataframe tbody tr th {\n",
       "        vertical-align: top;\n",
       "    }\n",
       "\n",
       "    .dataframe thead th {\n",
       "        text-align: right;\n",
       "    }\n",
       "</style>\n",
       "<table border=\"1\" class=\"dataframe\">\n",
       "  <thead>\n",
       "    <tr style=\"text-align: right;\">\n",
       "      <th></th>\n",
       "      <th>id</th>\n",
       "      <th>time</th>\n",
       "      <th>con_treat</th>\n",
       "      <th>page</th>\n",
       "      <th>converted</th>\n",
       "    </tr>\n",
       "  </thead>\n",
       "  <tbody>\n",
       "    <tr>\n",
       "      <th>0</th>\n",
       "      <td>851104</td>\n",
       "      <td>11:48.6</td>\n",
       "      <td>control</td>\n",
       "      <td>old_page</td>\n",
       "      <td>0</td>\n",
       "    </tr>\n",
       "    <tr>\n",
       "      <th>1</th>\n",
       "      <td>804228</td>\n",
       "      <td>01:45.2</td>\n",
       "      <td>control</td>\n",
       "      <td>old_page</td>\n",
       "      <td>0</td>\n",
       "    </tr>\n",
       "    <tr>\n",
       "      <th>2</th>\n",
       "      <td>661590</td>\n",
       "      <td>55:06.2</td>\n",
       "      <td>treatment</td>\n",
       "      <td>new_page</td>\n",
       "      <td>0</td>\n",
       "    </tr>\n",
       "    <tr>\n",
       "      <th>3</th>\n",
       "      <td>853541</td>\n",
       "      <td>28:03.1</td>\n",
       "      <td>treatment</td>\n",
       "      <td>new_page</td>\n",
       "      <td>0</td>\n",
       "    </tr>\n",
       "    <tr>\n",
       "      <th>4</th>\n",
       "      <td>864975</td>\n",
       "      <td>52:26.2</td>\n",
       "      <td>control</td>\n",
       "      <td>old_page</td>\n",
       "      <td>1</td>\n",
       "    </tr>\n",
       "  </tbody>\n",
       "</table>\n",
       "</div>"
      ],
      "text/plain": [
       "       id     time  con_treat      page  converted\n",
       "0  851104  11:48.6    control  old_page          0\n",
       "1  804228  01:45.2    control  old_page          0\n",
       "2  661590  55:06.2  treatment  new_page          0\n",
       "3  853541  28:03.1  treatment  new_page          0\n",
       "4  864975  52:26.2    control  old_page          1"
      ]
     },
     "metadata": {},
     "output_type": "display_data"
    }
   ],
   "source": [
    "import numpy as np\n",
    "import pandas as pd\n",
    "from datetime import timedelta\n",
    "from datetime import datetime\n",
    "import matplotlib.pyplot as plt\n",
    "from matplotlib import mlab\n",
    "import seaborn as sns\n",
    "from scipy import stats\n",
    "from scipy.stats import norm\n",
    "\n",
    "e_commerce = pd.read_csv(r'C:\\Users\\User\\Desktop\\DataCamp\\Python\\Projects\\Voluntary Projects\\12. E-commerce A-B Testing\\ab_test.csv')\n",
    "\n",
    "display(e_commerce.head())"
   ]
  },
  {
   "cell_type": "markdown",
   "metadata": {},
   "source": [
    "It looks like the dataset has been divided into the respective control and treatment groups. The value 0 of the \"converted\" variable means the user decided to not purchase the company's product whereas the value 1 means the user decided to purchase the company's product."
   ]
  },
  {
   "cell_type": "code",
   "execution_count": 250,
   "metadata": {},
   "outputs": [
    {
     "name": "stdout",
     "output_type": "stream",
     "text": [
      "Number of rows/observations: 294478\n",
      "Number of columns/variables: 5\n"
     ]
    }
   ],
   "source": [
    "print(\"Number of rows/observations: {}\".format(e_commerce.shape[0]))\n",
    "print(\"Number of columns/variables: {}\".format(e_commerce.shape[1]))"
   ]
  },
  {
   "cell_type": "markdown",
   "metadata": {},
   "source": [
    "There is another dataset that contains the users' country information. Lets import it."
   ]
  },
  {
   "cell_type": "code",
   "execution_count": 251,
   "metadata": {},
   "outputs": [
    {
     "data": {
      "text/html": [
       "<div>\n",
       "<style scoped>\n",
       "    .dataframe tbody tr th:only-of-type {\n",
       "        vertical-align: middle;\n",
       "    }\n",
       "\n",
       "    .dataframe tbody tr th {\n",
       "        vertical-align: top;\n",
       "    }\n",
       "\n",
       "    .dataframe thead th {\n",
       "        text-align: right;\n",
       "    }\n",
       "</style>\n",
       "<table border=\"1\" class=\"dataframe\">\n",
       "  <thead>\n",
       "    <tr style=\"text-align: right;\">\n",
       "      <th></th>\n",
       "      <th>id</th>\n",
       "      <th>country</th>\n",
       "    </tr>\n",
       "  </thead>\n",
       "  <tbody>\n",
       "    <tr>\n",
       "      <th>0</th>\n",
       "      <td>834778</td>\n",
       "      <td>UK</td>\n",
       "    </tr>\n",
       "    <tr>\n",
       "      <th>1</th>\n",
       "      <td>928468</td>\n",
       "      <td>US</td>\n",
       "    </tr>\n",
       "    <tr>\n",
       "      <th>2</th>\n",
       "      <td>822059</td>\n",
       "      <td>UK</td>\n",
       "    </tr>\n",
       "    <tr>\n",
       "      <th>3</th>\n",
       "      <td>711597</td>\n",
       "      <td>UK</td>\n",
       "    </tr>\n",
       "    <tr>\n",
       "      <th>4</th>\n",
       "      <td>710616</td>\n",
       "      <td>UK</td>\n",
       "    </tr>\n",
       "  </tbody>\n",
       "</table>\n",
       "</div>"
      ],
      "text/plain": [
       "       id country\n",
       "0  834778      UK\n",
       "1  928468      US\n",
       "2  822059      UK\n",
       "3  711597      UK\n",
       "4  710616      UK"
      ]
     },
     "metadata": {},
     "output_type": "display_data"
    }
   ],
   "source": [
    "countries = pd.read_csv(r'C:\\Users\\User\\Desktop\\DataCamp\\Python\\Projects\\Voluntary Projects\\12. E-commerce A-B Testing\\countries_ab.csv')\n",
    "\n",
    "display(countries.head())"
   ]
  },
  {
   "cell_type": "code",
   "execution_count": 252,
   "metadata": {},
   "outputs": [
    {
     "name": "stdout",
     "output_type": "stream",
     "text": [
      "Number of rows/observations: 290584\n",
      "Number of columns/variables: 2\n"
     ]
    }
   ],
   "source": [
    "print(\"Number of rows/observations: {}\".format(countries.shape[0]))\n",
    "print(\"Number of columns/variables: {}\".format(countries.shape[1]))"
   ]
  },
  {
   "cell_type": "markdown",
   "metadata": {},
   "source": [
    "#### Merge two datasets"
   ]
  },
  {
   "cell_type": "code",
   "execution_count": 253,
   "metadata": {},
   "outputs": [
    {
     "data": {
      "text/html": [
       "<div>\n",
       "<style scoped>\n",
       "    .dataframe tbody tr th:only-of-type {\n",
       "        vertical-align: middle;\n",
       "    }\n",
       "\n",
       "    .dataframe tbody tr th {\n",
       "        vertical-align: top;\n",
       "    }\n",
       "\n",
       "    .dataframe thead th {\n",
       "        text-align: right;\n",
       "    }\n",
       "</style>\n",
       "<table border=\"1\" class=\"dataframe\">\n",
       "  <thead>\n",
       "    <tr style=\"text-align: right;\">\n",
       "      <th></th>\n",
       "      <th>id</th>\n",
       "      <th>time</th>\n",
       "      <th>con_treat</th>\n",
       "      <th>page</th>\n",
       "      <th>converted</th>\n",
       "      <th>country</th>\n",
       "    </tr>\n",
       "  </thead>\n",
       "  <tbody>\n",
       "    <tr>\n",
       "      <th>0</th>\n",
       "      <td>851104</td>\n",
       "      <td>11:48.6</td>\n",
       "      <td>control</td>\n",
       "      <td>old_page</td>\n",
       "      <td>0</td>\n",
       "      <td>US</td>\n",
       "    </tr>\n",
       "    <tr>\n",
       "      <th>1</th>\n",
       "      <td>804228</td>\n",
       "      <td>01:45.2</td>\n",
       "      <td>control</td>\n",
       "      <td>old_page</td>\n",
       "      <td>0</td>\n",
       "      <td>US</td>\n",
       "    </tr>\n",
       "    <tr>\n",
       "      <th>2</th>\n",
       "      <td>661590</td>\n",
       "      <td>55:06.2</td>\n",
       "      <td>treatment</td>\n",
       "      <td>new_page</td>\n",
       "      <td>0</td>\n",
       "      <td>US</td>\n",
       "    </tr>\n",
       "    <tr>\n",
       "      <th>3</th>\n",
       "      <td>853541</td>\n",
       "      <td>28:03.1</td>\n",
       "      <td>treatment</td>\n",
       "      <td>new_page</td>\n",
       "      <td>0</td>\n",
       "      <td>US</td>\n",
       "    </tr>\n",
       "    <tr>\n",
       "      <th>4</th>\n",
       "      <td>864975</td>\n",
       "      <td>52:26.2</td>\n",
       "      <td>control</td>\n",
       "      <td>old_page</td>\n",
       "      <td>1</td>\n",
       "      <td>US</td>\n",
       "    </tr>\n",
       "  </tbody>\n",
       "</table>\n",
       "</div>"
      ],
      "text/plain": [
       "       id     time  con_treat      page  converted country\n",
       "0  851104  11:48.6    control  old_page          0      US\n",
       "1  804228  01:45.2    control  old_page          0      US\n",
       "2  661590  55:06.2  treatment  new_page          0      US\n",
       "3  853541  28:03.1  treatment  new_page          0      US\n",
       "4  864975  52:26.2    control  old_page          1      US"
      ]
     },
     "metadata": {},
     "output_type": "display_data"
    }
   ],
   "source": [
    "e_commerce_countries = pd.merge(e_commerce, countries, on='id')\n",
    "\n",
    "display(e_commerce_countries.head())"
   ]
  },
  {
   "cell_type": "code",
   "execution_count": 254,
   "metadata": {},
   "outputs": [
    {
     "name": "stdout",
     "output_type": "stream",
     "text": [
      "Number of rows/observations: 294478\n",
      "Number of columns/variables: 6\n"
     ]
    }
   ],
   "source": [
    "print(\"Number of rows/observations: {}\".format(e_commerce_countries.shape[0]))\n",
    "print(\"Number of columns/variables: {}\".format(e_commerce_countries.shape[1]))"
   ]
  },
  {
   "cell_type": "markdown",
   "metadata": {},
   "source": [
    "## Exploratory data analysis"
   ]
  },
  {
   "cell_type": "markdown",
   "metadata": {},
   "source": [
    "#### Description of each variable"
   ]
  },
  {
   "cell_type": "code",
   "execution_count": 255,
   "metadata": {},
   "outputs": [
    {
     "name": "stdout",
     "output_type": "stream",
     "text": [
      "                  id      converted\n",
      "count  294478.000000  294478.000000\n",
      "mean   787974.124733       0.119659\n",
      "std     91210.823776       0.324563\n",
      "min    630000.000000       0.000000\n",
      "25%    709032.250000       0.000000\n",
      "50%    787933.500000       0.000000\n",
      "75%    866911.750000       0.000000\n",
      "max    945999.000000       1.000000\n"
     ]
    }
   ],
   "source": [
    "print(e_commerce_countries.describe())"
   ]
  },
  {
   "cell_type": "markdown",
   "metadata": {},
   "source": [
    "There are only two numerical variables in this dataframe. Rightly so, there are two unique variants in the \"converted\" variable which are 0 and 1."
   ]
  },
  {
   "cell_type": "markdown",
   "metadata": {},
   "source": [
    "#### Handling data types of each variable"
   ]
  },
  {
   "cell_type": "code",
   "execution_count": 256,
   "metadata": {},
   "outputs": [
    {
     "name": "stdout",
     "output_type": "stream",
     "text": [
      "id            int64\n",
      "time         object\n",
      "con_treat    object\n",
      "page         object\n",
      "converted     int64\n",
      "country      object\n",
      "dtype: object\n"
     ]
    }
   ],
   "source": [
    "print(e_commerce_countries.dtypes)"
   ]
  },
  {
   "cell_type": "markdown",
   "metadata": {},
   "source": [
    "The variables with object data type need to be converted into their respective appropriate data types."
   ]
  },
  {
   "cell_type": "code",
   "execution_count": 257,
   "metadata": {},
   "outputs": [
    {
     "name": "stdout",
     "output_type": "stream",
     "text": [
      "The latest interaction between users and the old/new web page: Hour 59:59.9\n",
      "The earliest interaction between users and the old/new web page: Hour 00:00.0\n"
     ]
    }
   ],
   "source": [
    "print(\"The latest interaction between users and the old/new web page: Hour {}\".format(e_commerce_countries.time.max()))\n",
    "print(\"The earliest interaction between users and the old/new web page: Hour {}\".format(e_commerce_countries.time.min()))"
   ]
  },
  {
   "cell_type": "markdown",
   "metadata": {},
   "source": [
    "The experiment of the new web page was just deployed barely 3 days ago. This is short amount of time and perhaps need to be run longer in order for the decision to be made (will be discussed later)."
   ]
  },
  {
   "cell_type": "code",
   "execution_count": 258,
   "metadata": {},
   "outputs": [
    {
     "name": "stdout",
     "output_type": "stream",
     "text": [
      "['control' 'treatment']\n",
      "['old_page' 'new_page']\n",
      "['US' 'CA' 'UK']\n"
     ]
    }
   ],
   "source": [
    "print(e_commerce_countries[\"con_treat\"].unique())\n",
    "print(e_commerce_countries[\"page\"].unique())\n",
    "print(e_commerce_countries[\"country\"].unique())"
   ]
  },
  {
   "cell_type": "code",
   "execution_count": 259,
   "metadata": {},
   "outputs": [],
   "source": [
    "e_commerce_countries[[\"con_treat\",\"page\", \"country\"]] = e_commerce_countries[[\"con_treat\",\"page\", \"country\"]] \\\n",
    "                                                                            .astype('category')\n",
    "\n",
    "e_commerce_countries['time'] = e_commerce_countries['time'].astype('string')\n",
    "e_commerce_countries['hour'] = e_commerce_countries['time'].str[:2]\n",
    "e_commerce_countries['minute'] = e_commerce_countries['time'].str[3:5]\n",
    "e_commerce_countries['second'] = e_commerce_countries['time'].str[6:]\n",
    "\n",
    "e_commerce_countries['hour'] = e_commerce_countries['hour'].astype('int64') * 60 * 60\n",
    "e_commerce_countries['minute'] = e_commerce_countries['minute'].astype('int64') * 60\n",
    "e_commerce_countries['second'] = e_commerce_countries['second'].astype('int64')\n",
    "e_commerce_countries['total_seconds'] = e_commerce_countries['second'] + e_commerce_countries['minute'] \\\n",
    "                                        + e_commerce_countries['hour']"
   ]
  },
  {
   "cell_type": "code",
   "execution_count": 260,
   "metadata": {},
   "outputs": [],
   "source": [
    "e_commerce_countries['new_time'] = pd.to_datetime(e_commerce_countries['total_seconds'], unit='s', origin='2021-11-1')\n",
    "\n",
    "e_commerce_countries = e_commerce_countries[['id','con_treat','page','converted','country','new_time']]"
   ]
  },
  {
   "cell_type": "code",
   "execution_count": 261,
   "metadata": {},
   "outputs": [
    {
     "name": "stdout",
     "output_type": "stream",
     "text": [
      "id                    int64\n",
      "con_treat          category\n",
      "page               category\n",
      "converted             int64\n",
      "country            category\n",
      "new_time     datetime64[ns]\n",
      "dtype: object\n"
     ]
    }
   ],
   "source": [
    "print(e_commerce_countries.dtypes)"
   ]
  },
  {
   "cell_type": "code",
   "execution_count": 262,
   "metadata": {},
   "outputs": [
    {
     "data": {
      "text/html": [
       "<div>\n",
       "<style scoped>\n",
       "    .dataframe tbody tr th:only-of-type {\n",
       "        vertical-align: middle;\n",
       "    }\n",
       "\n",
       "    .dataframe tbody tr th {\n",
       "        vertical-align: top;\n",
       "    }\n",
       "\n",
       "    .dataframe thead th {\n",
       "        text-align: right;\n",
       "    }\n",
       "</style>\n",
       "<table border=\"1\" class=\"dataframe\">\n",
       "  <thead>\n",
       "    <tr style=\"text-align: right;\">\n",
       "      <th></th>\n",
       "      <th>id</th>\n",
       "      <th>con_treat</th>\n",
       "      <th>page</th>\n",
       "      <th>converted</th>\n",
       "      <th>country</th>\n",
       "      <th>new_time</th>\n",
       "    </tr>\n",
       "  </thead>\n",
       "  <tbody>\n",
       "    <tr>\n",
       "      <th>0</th>\n",
       "      <td>851104</td>\n",
       "      <td>control</td>\n",
       "      <td>old_page</td>\n",
       "      <td>0</td>\n",
       "      <td>US</td>\n",
       "      <td>2021-11-01 11:48:06</td>\n",
       "    </tr>\n",
       "    <tr>\n",
       "      <th>1</th>\n",
       "      <td>804228</td>\n",
       "      <td>control</td>\n",
       "      <td>old_page</td>\n",
       "      <td>0</td>\n",
       "      <td>US</td>\n",
       "      <td>2021-11-01 01:45:02</td>\n",
       "    </tr>\n",
       "    <tr>\n",
       "      <th>2</th>\n",
       "      <td>661590</td>\n",
       "      <td>treatment</td>\n",
       "      <td>new_page</td>\n",
       "      <td>0</td>\n",
       "      <td>US</td>\n",
       "      <td>2021-11-03 07:06:02</td>\n",
       "    </tr>\n",
       "    <tr>\n",
       "      <th>3</th>\n",
       "      <td>853541</td>\n",
       "      <td>treatment</td>\n",
       "      <td>new_page</td>\n",
       "      <td>0</td>\n",
       "      <td>US</td>\n",
       "      <td>2021-11-02 04:03:01</td>\n",
       "    </tr>\n",
       "    <tr>\n",
       "      <th>4</th>\n",
       "      <td>864975</td>\n",
       "      <td>control</td>\n",
       "      <td>old_page</td>\n",
       "      <td>1</td>\n",
       "      <td>US</td>\n",
       "      <td>2021-11-03 04:26:02</td>\n",
       "    </tr>\n",
       "  </tbody>\n",
       "</table>\n",
       "</div>"
      ],
      "text/plain": [
       "       id  con_treat      page  converted country            new_time\n",
       "0  851104    control  old_page          0      US 2021-11-01 11:48:06\n",
       "1  804228    control  old_page          0      US 2021-11-01 01:45:02\n",
       "2  661590  treatment  new_page          0      US 2021-11-03 07:06:02\n",
       "3  853541  treatment  new_page          0      US 2021-11-02 04:03:01\n",
       "4  864975    control  old_page          1      US 2021-11-03 04:26:02"
      ]
     },
     "metadata": {},
     "output_type": "display_data"
    }
   ],
   "source": [
    "display(e_commerce_countries.head())"
   ]
  },
  {
   "cell_type": "markdown",
   "metadata": {},
   "source": [
    "#### Handling missing values"
   ]
  },
  {
   "cell_type": "code",
   "execution_count": 263,
   "metadata": {},
   "outputs": [
    {
     "name": "stdout",
     "output_type": "stream",
     "text": [
      "id           0\n",
      "con_treat    0\n",
      "page         0\n",
      "converted    0\n",
      "country      0\n",
      "new_time     0\n",
      "dtype: int64\n"
     ]
    }
   ],
   "source": [
    "print(e_commerce_countries.isnull().sum())"
   ]
  },
  {
   "cell_type": "markdown",
   "metadata": {},
   "source": [
    "#### Count the unique users in each \"con_treat\" variable"
   ]
  },
  {
   "cell_type": "code",
   "execution_count": 264,
   "metadata": {},
   "outputs": [
    {
     "name": "stdout",
     "output_type": "stream",
     "text": [
      "               id\n",
      "con_treat        \n",
      "control    146195\n",
      "treatment  146284\n"
     ]
    }
   ],
   "source": [
    "count_users = e_commerce_countries.groupby(\"con_treat\").agg({'id':pd.Series.nunique})\n",
    "print(count_users)"
   ]
  },
  {
   "cell_type": "markdown",
   "metadata": {},
   "source": [
    "The size of control and treatment groups are almost similar. "
   ]
  },
  {
   "cell_type": "markdown",
   "metadata": {},
   "source": [
    "## Aggregating data"
   ]
  },
  {
   "cell_type": "code",
   "execution_count": 265,
   "metadata": {},
   "outputs": [
    {
     "name": "stdout",
     "output_type": "stream",
     "text": [
      "                                id  converted\n",
      "con_treat page     country                   \n",
      "control   new_page CA          104         16\n",
      "                   UK          481         64\n",
      "                   US         1343        154\n",
      "          old_page CA         7198        855\n",
      "                   UK        36360       4364\n",
      "                   US       101716      12270\n",
      "treatment new_page CA         7301        817\n",
      "                   UK        36106       4375\n",
      "                   US       101903      12072\n",
      "          old_page CA           92         15\n",
      "                   UK          472         50\n",
      "                   US         1401        185\n"
     ]
    }
   ],
   "source": [
    "count_results = e_commerce_countries.groupby(by=['con_treat','page','country']).agg({'id':pd.Series.nunique, 'converted':'sum'})\n",
    "print(count_results)"
   ]
  },
  {
   "cell_type": "markdown",
   "metadata": {},
   "source": [
    "It seems that both groups had almost similar demographics with the treatment group was exposed more to the new web page. In contrast, the control group was exposed more to the old web page. The number of members in each group are well randomly-divided.\n",
    "\n",
    "Based on the observation on the table above, the numbers of web page visitors who converted after visiting either the old or new web page were almost similar. Lets visualize it.  "
   ]
  },
  {
   "cell_type": "code",
   "execution_count": 266,
   "metadata": {},
   "outputs": [
    {
     "data": {
      "image/png": "[encoded data removed]",
      "text/plain": [
       "<Figure size 576x576 with 1 Axes>"
      ]
     },
     "metadata": {
      "needs_background": "light"
     },
     "output_type": "display_data"
    }
   ],
   "source": [
    "fig, ax = plt.subplots(figsize=(8,8))\n",
    "sns.countplot(x='converted', data=e_commerce_countries, hue='page')\n",
    "ax.set_xticklabels(['Not converted','Converted'])\n",
    "ax.set_title(\"New Web Page Had No Influence on The Number of Visitor's Conversion\")\n",
    "plt.show()"
   ]
  },
  {
   "cell_type": "markdown",
   "metadata": {},
   "source": [
    "Based on the graph above, the numbers of visitors who converted after visiting either one of the web pages were almost similar. Perhaps the web page design was not a factor in the number of conversions.\n",
    "\n",
    "Nevertheless, lets see the conversion rates between these two web pages."
   ]
  },
  {
   "cell_type": "markdown",
   "metadata": {},
   "source": [
    "#### Working with time-series data"
   ]
  },
  {
   "cell_type": "code",
   "execution_count": 267,
   "metadata": {
    "scrolled": true
   },
   "outputs": [
    {
     "data": {
      "text/html": [
       "<div>\n",
       "<style scoped>\n",
       "    .dataframe tbody tr th:only-of-type {\n",
       "        vertical-align: middle;\n",
       "    }\n",
       "\n",
       "    .dataframe tbody tr th {\n",
       "        vertical-align: top;\n",
       "    }\n",
       "\n",
       "    .dataframe thead th {\n",
       "        text-align: right;\n",
       "    }\n",
       "</style>\n",
       "<table border=\"1\" class=\"dataframe\">\n",
       "  <thead>\n",
       "    <tr style=\"text-align: right;\">\n",
       "      <th></th>\n",
       "      <th>id</th>\n",
       "      <th>con_treat</th>\n",
       "      <th>page</th>\n",
       "      <th>converted</th>\n",
       "      <th>country</th>\n",
       "      <th>new_time</th>\n",
       "      <th>Day</th>\n",
       "    </tr>\n",
       "  </thead>\n",
       "  <tbody>\n",
       "    <tr>\n",
       "      <th>0</th>\n",
       "      <td>851104</td>\n",
       "      <td>control</td>\n",
       "      <td>old_page</td>\n",
       "      <td>0</td>\n",
       "      <td>US</td>\n",
       "      <td>2021-11-01 11:48:06</td>\n",
       "      <td>1</td>\n",
       "    </tr>\n",
       "    <tr>\n",
       "      <th>1</th>\n",
       "      <td>804228</td>\n",
       "      <td>control</td>\n",
       "      <td>old_page</td>\n",
       "      <td>0</td>\n",
       "      <td>US</td>\n",
       "      <td>2021-11-01 01:45:02</td>\n",
       "      <td>1</td>\n",
       "    </tr>\n",
       "    <tr>\n",
       "      <th>2</th>\n",
       "      <td>661590</td>\n",
       "      <td>treatment</td>\n",
       "      <td>new_page</td>\n",
       "      <td>0</td>\n",
       "      <td>US</td>\n",
       "      <td>2021-11-03 07:06:02</td>\n",
       "      <td>3</td>\n",
       "    </tr>\n",
       "    <tr>\n",
       "      <th>3</th>\n",
       "      <td>853541</td>\n",
       "      <td>treatment</td>\n",
       "      <td>new_page</td>\n",
       "      <td>0</td>\n",
       "      <td>US</td>\n",
       "      <td>2021-11-02 04:03:01</td>\n",
       "      <td>2</td>\n",
       "    </tr>\n",
       "    <tr>\n",
       "      <th>4</th>\n",
       "      <td>864975</td>\n",
       "      <td>control</td>\n",
       "      <td>old_page</td>\n",
       "      <td>1</td>\n",
       "      <td>US</td>\n",
       "      <td>2021-11-03 04:26:02</td>\n",
       "      <td>3</td>\n",
       "    </tr>\n",
       "  </tbody>\n",
       "</table>\n",
       "</div>"
      ],
      "text/plain": [
       "       id  con_treat      page  converted country            new_time  Day\n",
       "0  851104    control  old_page          0      US 2021-11-01 11:48:06    1\n",
       "1  804228    control  old_page          0      US 2021-11-01 01:45:02    1\n",
       "2  661590  treatment  new_page          0      US 2021-11-03 07:06:02    3\n",
       "3  853541  treatment  new_page          0      US 2021-11-02 04:03:01    2\n",
       "4  864975    control  old_page          1      US 2021-11-03 04:26:02    3"
      ]
     },
     "metadata": {},
     "output_type": "display_data"
    }
   ],
   "source": [
    "e_commerce_countries['Day'] = e_commerce_countries.new_time.dt.day\n",
    "display(e_commerce_countries.head())"
   ]
  },
  {
   "cell_type": "code",
   "execution_count": 268,
   "metadata": {},
   "outputs": [
    {
     "name": "stdout",
     "output_type": "stream",
     "text": [
      "Average conversion rate per visitor and day: 0.12\n",
      "Minimum conversion rate per visitor and day: 0.00\n",
      "Maximum conversion rate per visitor and day: 2.00\n"
     ]
    }
   ],
   "source": [
    "commerce_grp = e_commerce_countries.groupby(by=['id','Day'], as_index=False).converted.sum()\n",
    "print(\"Average conversion rate per visitor and day: {:.2f}\".format(commerce_grp.converted.mean()))\n",
    "print(\"Minimum conversion rate per visitor and day: {:.2f}\".format(commerce_grp.converted.min()))\n",
    "print(\"Maximum conversion rate per visitor and day: {:.2f}\".format(commerce_grp.converted.max()))"
   ]
  },
  {
   "cell_type": "markdown",
   "metadata": {},
   "source": [
    "There is/are visitor/s who converted more than once per day."
   ]
  },
  {
   "cell_type": "code",
   "execution_count": 269,
   "metadata": {},
   "outputs": [
    {
     "data": {
      "image/png": "[encoded data removed]",
      "text/plain": [
       "<Figure size 778.375x1080 with 6 Axes>"
      ]
     },
     "metadata": {
      "needs_background": "light"
     },
     "output_type": "display_data"
    }
   ],
   "source": [
    "g = sns.catplot(x='Day', data=e_commerce_countries, col='page', row='country', hue='converted', kind='count')\n",
    "g.fig.suptitle(\"Identical Conversion Rate \", y=1.05)\n",
    "plt.show()"
   ]
  },
  {
   "cell_type": "markdown",
   "metadata": {},
   "source": [
    "There are very little differences in the number of conversion rates between both web pages. To truly explore relationships in data, A/B testing is needed.\n",
    "\n",
    "In this dataset, the response variable is the converted variable. The factor is the web page design and the variants are the old web page againts the new web page. The visitor is the experimental unit for this dataset.\n",
    "\n",
    "Will changing the web page design helps to increase the number of conversions?"
   ]
  },
  {
   "cell_type": "markdown",
   "metadata": {},
   "source": [
    "## A/B Testing"
   ]
  },
  {
   "cell_type": "markdown",
   "metadata": {},
   "source": [
    "#### Conversion rates"
   ]
  },
  {
   "cell_type": "code",
   "execution_count": 270,
   "metadata": {},
   "outputs": [
    {
     "data": {
      "text/html": [
       "<div>\n",
       "<style scoped>\n",
       "    .dataframe tbody tr th:only-of-type {\n",
       "        vertical-align: middle;\n",
       "    }\n",
       "\n",
       "    .dataframe tbody tr th {\n",
       "        vertical-align: top;\n",
       "    }\n",
       "\n",
       "    .dataframe thead tr th {\n",
       "        text-align: left;\n",
       "    }\n",
       "</style>\n",
       "<table border=\"1\" class=\"dataframe\">\n",
       "  <thead>\n",
       "    <tr>\n",
       "      <th></th>\n",
       "      <th>con_treat</th>\n",
       "      <th colspan=\"2\" halign=\"left\">converted</th>\n",
       "      <th>conv</th>\n",
       "    </tr>\n",
       "    <tr>\n",
       "      <th></th>\n",
       "      <th></th>\n",
       "      <th>count</th>\n",
       "      <th>sum</th>\n",
       "      <th></th>\n",
       "    </tr>\n",
       "  </thead>\n",
       "  <tbody>\n",
       "    <tr>\n",
       "      <th>0</th>\n",
       "      <td>control</td>\n",
       "      <td>147202</td>\n",
       "      <td>17723</td>\n",
       "      <td>0.120399</td>\n",
       "    </tr>\n",
       "    <tr>\n",
       "      <th>1</th>\n",
       "      <td>treatment</td>\n",
       "      <td>147276</td>\n",
       "      <td>17514</td>\n",
       "      <td>0.118920</td>\n",
       "    </tr>\n",
       "  </tbody>\n",
       "</table>\n",
       "</div>"
      ],
      "text/plain": [
       "   con_treat converted             conv\n",
       "                 count    sum          \n",
       "0    control    147202  17723  0.120399\n",
       "1  treatment    147276  17514  0.118920"
      ]
     },
     "metadata": {},
     "output_type": "display_data"
    }
   ],
   "source": [
    "test_results_summary = e_commerce_countries.groupby(by=['con_treat'], as_index=False).agg({'converted':['count','sum']})\n",
    "test_results_summary['conv'] = (test_results_summary.converted['sum'] / test_results_summary.converted['count'])\n",
    "display(test_results_summary)"
   ]
  },
  {
   "cell_type": "markdown",
   "metadata": {},
   "source": [
    "Conversion rate for the treatment group is 11.89% which is lower than the conversion rate for the control group which is at 12.04%. It seems changing the web page design is a bad idea for this company.\n",
    "\n",
    "Isn't it? Before that, it is better to determine whether the result obtained is merely because of randomness or the result is statistically significant."
   ]
  },
  {
   "cell_type": "markdown",
   "metadata": {},
   "source": [
    "## Analyzing A/B Testing Results"
   ]
  },
  {
   "cell_type": "markdown",
   "metadata": {},
   "source": [
    "#### Calculating p-values"
   ]
  },
  {
   "cell_type": "code",
   "execution_count": 280,
   "metadata": {},
   "outputs": [
    {
     "name": "stdout",
     "output_type": "stream",
     "text": [
      "0.21630198479603702\n"
     ]
    }
   ],
   "source": [
    "def get_pvalue(cont_conv, test_conv, cont_size, test_size):\n",
    "    lift = -abs(test_conv - cont_conv)\n",
    "    scale_one = cont_conv * (1-cont_conv) * (1/cont_size)\n",
    "    scale_two = test_conv * (1-test_conv) * (1/test_size)\n",
    "    scale_val = (scale_one + scale_two) ** 0.5\n",
    "    p_value = 2 * stats.norm.cdf(lift, loc=0, scale=scale_val)\n",
    "    \n",
    "    return p_value\n",
    "\n",
    "# Previously calculated quantities\n",
    "cont_conv = 0.120399 # Control group conversion rate\n",
    "test_conv = 0.118920 # Treatment group conversion rate\n",
    "cont_size = 147202 # Control group size\n",
    "test_size = 147276 # Treatment group size\n",
    "\n",
    "p_value = get_pvalue(cont_conv, test_conv, cont_size, test_size)\n",
    "print(p_value)"
   ]
  },
  {
   "cell_type": "markdown",
   "metadata": {},
   "source": [
    "The p-value is more than 0.1 which means the result is small to no evidence against the null hypothesis. The null hypothesis for this test is the control and treatment groups have the same impact on the response variable. \n",
    "\n",
    "The observation was likely to have happened because of randomness. "
   ]
  },
  {
   "cell_type": "markdown",
   "metadata": {},
   "source": [
    "#### Finding the power of this test"
   ]
  },
  {
   "cell_type": "markdown",
   "metadata": {},
   "source": [
    "Power is the probability of rejecting the null hypothesis when the alternative hypothesis is true."
   ]
  },
  {
   "cell_type": "code",
   "execution_count": 281,
   "metadata": {},
   "outputs": [
    {
     "name": "stdout",
     "output_type": "stream",
     "text": [
      "0.23541510857719977\n"
     ]
    }
   ],
   "source": [
    "def get_power(test_size, cont_conv, test_conv, cl): # cl is confidence level which is the probability of not rejecting the null hypothesis when it is true\n",
    "    alpha = 1 - cl\n",
    "    qu = stats.norm.ppf(1 - (alpha/2))\n",
    "    diff = abs(test_conv - cont_conv)\n",
    "    bp = (cont_conv+test_conv) / 2\n",
    "    v1 = cont_conv * (1-cont_conv)\n",
    "    v2 = test_conv * (1-test_conv)\n",
    "    v_hat = bp * (1-bp)\n",
    "    power_part_one = stats.norm.cdf((((test_size**0.5) * diff) - (qu * ((2*v_hat)**0.5))) / ((v1+v2)**0.5))\n",
    "    power_part_two = 1 - stats.norm.cdf((((test_size**0.5) * diff) + (qu * ((2*v_hat)**0.5))) / ((v1+v2)**0.5))\n",
    "    power = power_part_one + power_part_two\n",
    "    return power\n",
    "\n",
    "result_power = get_power(test_size, cont_conv, test_conv, 0.95)\n",
    "print(result_power)"
   ]
  },
  {
   "cell_type": "markdown",
   "metadata": {},
   "source": [
    "It looks like there is a low probability to reject the null hypothesis."
   ]
  },
  {
   "cell_type": "markdown",
   "metadata": {},
   "source": [
    "#### Finding the confidence interval"
   ]
  },
  {
   "cell_type": "markdown",
   "metadata": {},
   "source": [
    "The confidence interval (CI) is a range of values that's likely to include a population value with a certain degree of confidence."
   ]
  },
  {
   "cell_type": "code",
   "execution_count": 282,
   "metadata": {},
   "outputs": [
    {
     "name": "stdout",
     "output_type": "stream",
     "text": [
      "(-0.00382349747839973, 0.0008654974783997137)\n"
     ]
    }
   ],
   "source": [
    "def get_ci(test_conv, cont_conv, test_size, cont_size, ci):\n",
    "    sd = ((test_conv * (1-test_conv)) / test_size + (cont_conv * (1-cont_conv)) / cont_size) ** 0.5\n",
    "    lift = test_conv - cont_conv\n",
    "    val = stats.norm.isf((1-ci) / 2)\n",
    "    lwr_bnd = lift - val * sd\n",
    "    upr_bnd = lift + val * sd\n",
    "    \n",
    "    return ((lwr_bnd, upr_bnd))\n",
    "\n",
    "confidence_interval = get_ci(test_conv, cont_conv, test_size, cont_size, 0.95)\n",
    "print(confidence_interval)"
   ]
  },
  {
   "cell_type": "markdown",
   "metadata": {},
   "source": [
    "The confidence interval is narrow thanks to the large treatment group size. This means the changes would tighten the confidence interval."
   ]
  },
  {
   "cell_type": "markdown",
   "metadata": {},
   "source": [
    "## Interpreting A/B Testing Results"
   ]
  },
  {
   "cell_type": "markdown",
   "metadata": {},
   "source": [
    "#### Plotting the distribution"
   ]
  },
  {
   "cell_type": "code",
   "execution_count": 292,
   "metadata": {},
   "outputs": [
    {
     "data": {
      "image/png": "[encoded data removed]",
      "text/plain": [
       "<Figure size 432x288 with 1 Axes>"
      ]
     },
     "metadata": {
      "needs_background": "light"
     },
     "output_type": "display_data"
    }
   ],
   "source": [
    "# Use mean values to calculate the variances\n",
    "mean_cont = 0.120399\n",
    "mean_test = 0.118920\n",
    "var_cont = (mean_cont * (1-mean_cont)) / 147202\n",
    "var_test = (mean_test * (1-mean_test)) / 147276\n",
    "\n",
    "# Generate a range of values across the distribution from +/- 3 standard deviations around the mean\n",
    "cont_line = np.linspace(-3 * var_cont ** 0.5 + mean_cont, 3 * var_cont ** 0.5 + mean_cont, 100)\n",
    "test_line = np.linspace(-3 * var_test ** 0.5 + mean_test, 3 * var_test ** 0.5 + mean_test, 100)\n",
    "\n",
    "# Plot the probabilities across the distribution of conversion rates\n",
    "plt.plot(cont_line, norm.pdf(cont_line, mean_cont, var_cont ** 0.5))\n",
    "plt.plot(test_line, norm.pdf(test_line, mean_test, var_test ** 0.5))\n",
    "plt.show()"
   ]
  },
  {
   "cell_type": "markdown",
   "metadata": {},
   "source": [
    "There is an overlap between the 2 graphs. As previously predicted, it intuitively implies that the treatment and control groups conversion rates are not significantly distinct."
   ]
  },
  {
   "cell_type": "markdown",
   "metadata": {},
   "source": [
    "#### Plotting the difference distribution"
   ]
  },
  {
   "cell_type": "markdown",
   "metadata": {},
   "source": [
    "Difference of distribution of the results which is the difference of distribution of the lift."
   ]
  },
  {
   "cell_type": "code",
   "execution_count": 294,
   "metadata": {},
   "outputs": [
    {
     "data": {
      "image/png": "[encoded data removed]",
      "text/plain": [
       "<Figure size 432x288 with 1 Axes>"
      ]
     },
     "metadata": {
      "needs_background": "light"
     },
     "output_type": "display_data"
    }
   ],
   "source": [
    "# Generate the lift mean and standard deviation\n",
    "lift_mean = test_conv - cont_conv\n",
    "lift_sd = (var_test + var_cont) ** 0.5\n",
    "\n",
    "# Generate the range of x-values\n",
    "lift_line = np.linspace(lift_mean - 3 * lift_sd, lift_mean + 3 * lift_sd, 100)\n",
    "\n",
    "# Plot the lift distribution\n",
    "plt.plot(lift_line, norm.pdf(lift_line, lift_mean, lift_sd))\n",
    "\n",
    "lwr_bnd, upr_bnd = get_ci(test_conv, cont_conv, test_size, cont_size, 0.95)\n",
    "\n",
    "# Add the annotation lines\n",
    "plt.axvline(x=lift_mean, color='green')\n",
    "plt.axvline(x=lwr_bnd, color='red')\n",
    "plt.axvline(x=upr_bnd, color='red')\n",
    "plt.show()"
   ]
  },
  {
   "cell_type": "markdown",
   "metadata": {},
   "source": [
    "## Conclusion"
   ]
  },
  {
   "cell_type": "markdown",
   "metadata": {},
   "source": [
    "Based on the A/B testing results above, it would be good for the company to keep the old web page or perhaps run the experiment longer for a month before making the decision. "
   ]
  }
 ],
 "metadata": {
  "kernelspec": {
   "display_name": "Python 3",
   "language": "python",
   "name": "python3"
  },
  "language_info": {
   "codemirror_mode": {
    "name": "ipython",
    "version": 3
   },
   "file_extension": ".py",
   "mimetype": "text/x-python",
   "name": "python",
   "nbconvert_exporter": "python",
   "pygments_lexer": "ipython3",
   "version": "3.6.10"
  }
 },
 "nbformat": 4,
 "nbformat_minor": 4
}
